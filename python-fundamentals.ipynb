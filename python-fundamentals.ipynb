{
 "cells": [
  {
   "cell_type": "code",
   "execution_count": 5,
   "id": "52140ee6",
   "metadata": {},
   "outputs": [],
   "source": [
    "name = \"Usher\" # string\n",
    "x = 1 # int\n",
    "y = 0.1 #float\n",
    "\n",
    "my_int = int(1) # type casting \n",
    "my_int = 1\n",
    "a = b = c = 10"
   ]
  },
  {
   "cell_type": "code",
   "execution_count": 8,
   "id": "f362a61d",
   "metadata": {},
   "outputs": [
    {
     "data": {
      "text/plain": [
       "complex"
      ]
     },
     "execution_count": 8,
     "metadata": {},
     "output_type": "execute_result"
    }
   ],
   "source": [
    "x = 2j + 0\n",
    "\n",
    "type(x)"
   ]
  },
  {
   "cell_type": "code",
   "execution_count": 12,
   "id": "887b9deb",
   "metadata": {},
   "outputs": [
    {
     "data": {
      "text/plain": [
       "list"
      ]
     },
     "execution_count": 12,
     "metadata": {},
     "output_type": "execute_result"
    }
   ],
   "source": [
    "my_list = ['a', 'b', 23, 4.0]\n",
    "my_sc_list = list() # list constructor\n",
    "\n",
    "type(my_sc_list)"
   ]
  },
  {
   "cell_type": "code",
   "execution_count": 16,
   "id": "0583030a",
   "metadata": {},
   "outputs": [
    {
     "data": {
      "text/plain": [
       "tuple"
      ]
     },
     "execution_count": 16,
     "metadata": {},
     "output_type": "execute_result"
    }
   ],
   "source": [
    "my_tuple = ('',)\n",
    "my_sc_tuple = tuple()\n",
    "type(my_sc_tuple)"
   ]
  },
  {
   "cell_type": "code",
   "execution_count": 24,
   "id": "d1c8b308",
   "metadata": {},
   "outputs": [],
   "source": [
    "my_dict = {\n",
    "    \"name\": \"Usher\",\n",
    "    \"age\": 23,\n",
    "    \"dob\": 1978\n",
    "}\n",
    "my_sec_dict = dict()"
   ]
  },
  {
   "cell_type": "code",
   "execution_count": null,
   "id": "21e36ffd",
   "metadata": {},
   "outputs": [],
   "source": [
    "my_set = {2, 4, 6, 8, 10}\n",
    "my_sc_set = set\n",
    "my_frozen_set = frozenset()\n",
    "my_bool = True\n",
    "my_false = False"
   ]
  },
  {
   "cell_type": "markdown",
   "id": "8367bead",
   "metadata": {},
   "source": [
    "a = 2\n",
    "b = 4\n",
    "\n",
    "if \"code\" not in my_dict:\n",
    "    print(\"does not\")"
   ]
  },
  {
   "cell_type": "markdown",
   "id": "53c1eba2",
   "metadata": {},
   "source": [
    "## Lists"
   ]
  },
  {
   "cell_type": "code",
   "execution_count": 2,
   "id": "c5c13a4d",
   "metadata": {},
   "outputs": [
    {
     "name": "stdout",
     "output_type": "stream",
     "text": [
      "['water', 'soda', 'tea', 'wine', 'milk', 'soda']\n",
      "soda\n"
     ]
    }
   ],
   "source": [
    "drinks = [\"water\", \"soda\", \"tea\", \"wine\", \"milk\", \"soda\"]\n",
    "print(drinks)\n",
    "len(drinks)\n",
    "print(drinks[1])"
   ]
  },
  {
   "cell_type": "markdown",
   "id": "7b2ce7e9",
   "metadata": {},
   "source": [
    "## Loop through lists"
   ]
  },
  {
   "cell_type": "code",
   "execution_count": 32,
   "id": "bd558c20",
   "metadata": {},
   "outputs": [
    {
     "name": "stdout",
     "output_type": "stream",
     "text": [
      "water\n",
      "soda\n",
      "tea\n",
      "wine\n",
      "milk\n",
      "soda\n"
     ]
    }
   ],
   "source": [
    "for item in drinks:\n",
    "    print(item)"
   ]
  },
  {
   "cell_type": "code",
   "execution_count": 35,
   "id": "be1bef93",
   "metadata": {},
   "outputs": [
    {
     "name": "stdout",
     "output_type": "stream",
     "text": [
      "water\n",
      "soda\n",
      "tea\n",
      "wine\n",
      "milk\n",
      "soda\n"
     ]
    }
   ],
   "source": [
    "i = 0\n",
    "while i < len(drinks):\n",
    "    print(drinks[i])\n",
    "    i += 1"
   ]
  },
  {
   "cell_type": "code",
   "execution_count": 36,
   "id": "aeadfdf6",
   "metadata": {},
   "outputs": [
    {
     "name": "stdout",
     "output_type": "stream",
     "text": [
      "water\n",
      "soda\n",
      "tea\n",
      "wine\n",
      "milk\n",
      "soda\n"
     ]
    }
   ],
   "source": [
    "for item in range(len(drinks)):\n",
    "    print(drinks[item])\n",
    "    "
   ]
  },
  {
   "cell_type": "markdown",
   "id": "ea59acd4",
   "metadata": {},
   "source": [
    "## List slicing"
   ]
  },
  {
   "cell_type": "code",
   "execution_count": 5,
   "id": "924392d0",
   "metadata": {},
   "outputs": [
    {
     "data": {
      "text/plain": [
       "['tea', 'wine']"
      ]
     },
     "execution_count": 5,
     "metadata": {},
     "output_type": "execute_result"
    }
   ],
   "source": [
    "my_drinks = drinks[2::] # start from index 2 up to the end\n",
    "my_drinks = drinks[::2] # start from the bigining and stop at index 2\n",
    "my_drinks = drinks[2:4] # start from index 2 and stop at index 4\n",
    "my_drinks\n",
    "\n",
    "# Note: the item in the last index is not returned"
   ]
  },
  {
   "cell_type": "markdown",
   "id": "1e0e8156",
   "metadata": {},
   "source": [
    "## Change items in a list"
   ]
  },
  {
   "cell_type": "code",
   "execution_count": 46,
   "id": "46c2ab6b",
   "metadata": {},
   "outputs": [
    {
     "data": {
      "text/plain": [
       "['Bushera', 'soda', 'tea', 'wine', 'milk', 'soda']"
      ]
     },
     "execution_count": 46,
     "metadata": {},
     "output_type": "execute_result"
    }
   ],
   "source": [
    "drinks[0] = \"Bushera\"\n",
    "drinks"
   ]
  },
  {
   "cell_type": "markdown",
   "id": "8f78fae3",
   "metadata": {},
   "source": [
    "## Add items to a list / Add item to the list in a specific index"
   ]
  },
  {
   "cell_type": "code",
   "execution_count": 50,
   "id": "26b6b5a5",
   "metadata": {},
   "outputs": [
    {
     "data": {
      "text/plain": [
       "['passion', 'Bushera', 'soda', 'tea', 'wine', 'milk', 'soda', 'Bongo', 'Bongo']"
      ]
     },
     "execution_count": 50,
     "metadata": {},
     "output_type": "execute_result"
    }
   ],
   "source": [
    "#  Add items to a list \n",
    "drinks.append(\"Bongo\")\n",
    "\n",
    "#Add item to the list in a specific index\n",
    "drinks.insert(0, \"passion\")\n",
    "drinks"
   ]
  },
  {
   "cell_type": "markdown",
   "id": "5f4d34d5",
   "metadata": {},
   "source": [
    "## Remove an item from a list using its name"
   ]
  },
  {
   "cell_type": "code",
   "execution_count": 52,
   "id": "2da7d000",
   "metadata": {},
   "outputs": [
    {
     "data": {
      "text/plain": [
       "['passion', 'soda', 'tea', 'wine', 'milk', 'soda', 'Bongo', 'Bongo']"
      ]
     },
     "execution_count": 52,
     "metadata": {},
     "output_type": "execute_result"
    }
   ],
   "source": [
    "drinks.remove(\"Bushera\")\n",
    "drinks"
   ]
  },
  {
   "cell_type": "markdown",
   "id": "4f32c705",
   "metadata": {},
   "source": [
    "## Remove an item from a list using its index"
   ]
  },
  {
   "cell_type": "code",
   "execution_count": 53,
   "id": "01f30bb1",
   "metadata": {},
   "outputs": [
    {
     "data": {
      "text/plain": [
       "['passion', 'soda', 'tea', 'wine', 'soda', 'Bongo', 'Bongo']"
      ]
     },
     "execution_count": 53,
     "metadata": {},
     "output_type": "execute_result"
    }
   ],
   "source": [
    "drinks.pop(4)\n",
    "drinks"
   ]
  },
  {
   "cell_type": "markdown",
   "id": "69b4fa03",
   "metadata": {},
   "source": [
    "## Delete a list"
   ]
  },
  {
   "cell_type": "code",
   "execution_count": 6,
   "id": "06768c7e",
   "metadata": {
    "scrolled": true
   },
   "outputs": [],
   "source": [
    "# using del \n",
    "#del drinks\n",
    "\n",
    "# using clear\n",
    "# drinks.clear()\n",
    "#drinks Calling a list after deleting will through error"
   ]
  },
  {
   "cell_type": "markdown",
   "id": "87a62597",
   "metadata": {},
   "source": [
    "## List Comprehension "
   ]
  }
 ],
 "metadata": {
  "kernelspec": {
   "display_name": "Python 3 (ipykernel)",
   "language": "python",
   "name": "python3"
  },
  "language_info": {
   "codemirror_mode": {
    "name": "ipython",
    "version": 3
   },
   "file_extension": ".py",
   "mimetype": "text/x-python",
   "name": "python",
   "nbconvert_exporter": "python",
   "pygments_lexer": "ipython3",
   "version": "3.9.6"
  }
 },
 "nbformat": 4,
 "nbformat_minor": 5
}
